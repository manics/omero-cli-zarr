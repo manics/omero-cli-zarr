{
 "cells": [
  {
   "cell_type": "markdown",
   "metadata": {},
   "source": [
    "# Create a zarr with masks for an idr0041 image\n",
    "\n",
    "Download idr0041 image and corresponding mask, for example:\n",
    "- `omero-ms-zarr/src/scripts/omero_to_zarr.py 3430725` ([Image](https://idr.openmicroscopy.org/webclient/?show=image-3430725))\n",
    "- `omero-ms-zarr/src/scripts/omero_to_zarr.py 3430805` ([Mask](https://idr.openmicroscopy.org/webclient/?show=image-3430805))\n",
    "\n",
    "[Open in OMERO.iviewer](https://idr.openmicroscopy.org/iviewer/?images=3430725,3430805)"
   ]
  },
  {
   "cell_type": "code",
   "execution_count": 1,
   "metadata": {},
   "outputs": [],
   "source": [
    "import numpy as np\n",
    "import requests\n",
    "import zarr"
   ]
  },
  {
   "cell_type": "code",
   "execution_count": 2,
   "metadata": {},
   "outputs": [
    {
     "name": "stdout",
     "output_type": "stream",
     "text": [
      "3430725.zarr: (1, 3, 31, 256, 256)\n",
      "3430805.zarr: (1, 2, 31, 256, 256)\n"
     ]
    }
   ],
   "source": [
    "image = zarr.open('3430725.zarr', mode='r')\n",
    "mask = zarr.open('3430805.zarr', mode='r')\n",
    "print(f'3430725.zarr: {image[0].shape}')\n",
    "print(f'3430805.zarr: {mask[0].shape}')\n",
    "assert image[0].shape[2:] == mask[0].shape[2:]"
   ]
  },
  {
   "cell_type": "markdown",
   "metadata": {},
   "source": [
    "Get the mask image metadata as this will be used to name the masks in the Zarr (though as with images the name can be anything)"
   ]
  },
  {
   "cell_type": "code",
   "execution_count": 3,
   "metadata": {},
   "outputs": [],
   "source": [
    "mask_info = requests.get('https://idr.openmicroscopy.org/iviewer/image_data/3430806/').json()\n",
    "mask_names = [c['label'] for c in mask_info['channels']]\n",
    "assert len(mask_names) == mask[0].shape[1]"
   ]
  },
  {
   "cell_type": "markdown",
   "metadata": {},
   "source": [
    "Copy the image to `output.zarr`. Save the two binary masks using the channel labels from the idr `NUC` and `CELL`.\n",
    "The mask arrays have the same number of dimensions as the image `T, C, Z, Y, X` but some dimensions are singular."
   ]
  },
  {
   "cell_type": "code",
   "execution_count": 4,
   "metadata": {},
   "outputs": [
    {
     "name": "stdout",
     "output_type": "stream",
     "text": [
      "Mask: NUC\n",
      "Mask: CELL\n"
     ]
    }
   ],
   "source": [
    "output = zarr.open('output.zarr')\n",
    "output[0] = image[0]\n",
    "out_masks = output.create_group('masks', overwrite=True)\n",
    "\n",
    "for c in range(mask[0].shape[1]):\n",
    "    print(f'Mask: {mask_names[c]}')\n",
    "    m = out_masks.create_dataset(mask_names[c], shape=(1, 1) + mask[0].shape[2:], dtype=np.bool)\n",
    "    m[0, 0, :] = mask[0][0, c, :, :, :]"
   ]
  },
  {
   "cell_type": "markdown",
   "metadata": {},
   "source": [
    "Set attributes on the masks:\n",
    "- The parent image (the name of the Zarr image array)\n",
    "- The source plane(s) of each mask used to calculate the mask for any singular dimensions.\n",
    "Unlike OMERO these are arrays to indicate a mask can be calculated using information from more than one plane.\n",
    "In this example this is obtained by looking at the images, and figuring out which channel(s) were used to create the segmentation.\n",
    "\n",
    "The type of the mask can be inferred from the `dtype` of the array:\n",
    "- `bool`: binary bitmask\n",
    "- `integer`: label image"
   ]
  },
  {
   "cell_type": "code",
   "execution_count": 5,
   "metadata": {},
   "outputs": [],
   "source": [
    "output.masks.NUC.attrs['image'] = {\n",
    "    'array': '0',\n",
    "    'source': {\n",
    "#         'ts': [],\n",
    "        'cs': [1],  # Channel NUC\n",
    "#         'zs': [],\n",
    "#         'ys': [],\n",
    "#         'xs': [],\n",
    "    },\n",
    "}\n",
    "output.masks.CELL.attrs['image'] = {\n",
    "    'array': '0',\n",
    "    'source': {\n",
    "#         'ts': [],\n",
    "        'cs': [0],  # Channel POI\n",
    "#         'zs': [],\n",
    "#         'ys': [],\n",
    "#         'xs': [],\n",
    "    },\n",
    "}"
   ]
  },
  {
   "cell_type": "code",
   "execution_count": null,
   "metadata": {},
   "outputs": [],
   "source": []
  }
 ],
 "metadata": {
  "kernelspec": {
   "display_name": "Python 3",
   "language": "python",
   "name": "python3"
  },
  "language_info": {
   "codemirror_mode": {
    "name": "ipython",
    "version": 3
   },
   "file_extension": ".py",
   "mimetype": "text/x-python",
   "name": "python",
   "nbconvert_exporter": "python",
   "pygments_lexer": "ipython3",
   "version": "3.7.6"
  }
 },
 "nbformat": 4,
 "nbformat_minor": 4
}
